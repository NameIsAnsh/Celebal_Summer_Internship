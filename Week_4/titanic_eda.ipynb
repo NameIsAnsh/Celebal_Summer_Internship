{
 "cells": [
  {
   "cell_type": "markdown",
   "id": "e166b970",
   "metadata": {},
   "source": [
    "# Exploratory Data Analysis: Titanic Dataset"
   ]
  },
  {
   "cell_type": "markdown",
   "id": "e0d538cd",
   "metadata": {},
   "source": [
    "## 1. Data Loading and Initial Exploration"
   ]
  },
  {
   "cell_type": "code",
   "execution_count": null,
   "id": "3c752638",
   "metadata": {},
   "outputs": [],
   "source": [
    "import pandas as pd\n",
    "import matplotlib.pyplot as plt\n",
    "import seaborn as sns\n",
    "\n",
    "df = pd.read_csv(\"/home/ubuntu/upload/titanic.csv\")\n",
    "\n",
    "print(\"### First 5 Rows of the Dataset\")\n",
    "print(df.head().to_markdown(index=False))\n",
    "\n",
    "print(\"\n",
    "### Data Information\")\n",
    "print(df.info())\n",
    "\n",
    "print(\"\n",
    "### Descriptive Statistics\")\n",
    "print(df.describe().to_markdown())"
   ]
  },
  {
   "cell_type": "markdown",
   "id": "554a41e9",
   "metadata": {},
   "source": [
    "## 2. Data Quality Assessment"
   ]
  },
  {
   "cell_type": "markdown",
   "id": "7057f3fe",
   "metadata": {},
   "source": [
    "### Missing Values"
   ]
  },
  {
   "cell_type": "code",
   "execution_count": null,
   "id": "83001e9d",
   "metadata": {},
   "outputs": [],
   "source": [
    "print(df.isnull().sum().to_markdown())"
   ]
  },
  {
   "cell_type": "markdown",
   "id": "625e404e",
   "metadata": {},
   "source": [
    "### Data Types"
   ]
  },
  {
   "cell_type": "code",
   "execution_count": null,
   "id": "e6082a1e",
   "metadata": {},
   "outputs": [],
   "source": [
    "print(df.dtypes.to_markdown())"
   ]
  },
  {
   "cell_type": "markdown",
   "id": "40399d8a",
   "metadata": {},
   "source": [
    "### Unique Values in Categorical Columns"
   ]
  },
  {
   "cell_type": "code",
   "execution_count": null,
   "id": "0bc9e0f7",
   "metadata": {},
   "outputs": [],
   "source": [
    "for column in df.select_dtypes(include=[\"object\"]).columns:\n",
    "    print(f\"\\nUnique values for {column}:\")\n",
    "    print(df[column].unique())"
   ]
  },
  {
   "cell_type": "markdown",
   "id": "946818a9",
   "metadata": {},
   "source": [
    "## 3. Distribution Analysis and Visualizations"
   ]
  },
  {
   "cell_type": "markdown",
   "id": "2c146bc0",
   "metadata": {},
   "source": [
    "### Histograms of Age and Fare"
   ]
  },
  {
   "cell_type": "code",
   "execution_count": null,
   "id": "124a64a2",
   "metadata": {},
   "outputs": [],
   "source": [
    "plt.figure(figsize=(12, 5))\n",
    "plt.subplot(1, 2, 1)\n",
    "sns.histplot(df[\"Age\"].dropna(), kde=True)\n",
    "plt.title(\"Distribution of Age\")\n",
    "\n",
    "plt.subplot(1, 2, 2)\n",
    "sns.histplot(df[\"Fare\"], kde=True)\n",
    "plt.title(\"Distribution of Fare\")\n",
    "plt.tight_layout()\n",
    "plt.show()"
   ]
  },
  {
   "cell_type": "markdown",
   "id": "b82f8b86",
   "metadata": {},
   "source": [
    "### Box Plots of Age and Fare"
   ]
  },
  {
   "cell_type": "code",
   "execution_count": null,
   "id": "4c16c52f",
   "metadata": {},
   "outputs": [],
   "source": [
    "plt.figure(figsize=(12, 5))\n",
    "plt.subplot(1, 2, 1)\n",
    "sns.boxplot(y=df[\"Age\"])\n",
    "plt.title(\"Box Plot of Age\")\n",
    "\n",
    "plt.subplot(1, 2, 2)\n",
    "sns.boxplot(y=df[\"Fare\"])\n",
    "plt.title(\"Box Plot of Fare\")\n",
    "plt.tight_layout()\n",
    "plt.show()"
   ]
  },
  {
   "cell_type": "markdown",
   "id": "7d0ddfa6",
   "metadata": {},
   "source": [
    "### Survival Count"
   ]
  },
  {
   "cell_type": "code",
   "execution_count": null,
   "id": "80e41e26",
   "metadata": {},
   "outputs": [],
   "source": [
    "plt.figure(figsize=(10, 6))\n",
    "sns.countplot(x=\"Survived\", data=df)\n",
    "plt.title(\"Survival Count\")\n",
    "plt.show()"
   ]
  },
  {
   "cell_type": "markdown",
   "id": "82c76237",
   "metadata": {},
   "source": [
    "### Categorical Feature Counts"
   ]
  },
  {
   "cell_type": "code",
   "execution_count": null,
   "id": "6eb9f788",
   "metadata": {},
   "outputs": [],
   "source": [
    "plt.figure(figsize=(18, 5))\n",
    "plt.subplot(1, 3, 1)\n",
    "sns.countplot(x=\"Sex\", data=df)\n",
    "plt.title(\"Count of Passengers by Sex\")\n",
    "\n",
    "plt.subplot(1, 3, 2)\n",
    "sns.countplot(x=\"Pclass\", data=df)\n",
    "plt.title(\"Count of Passengers by Pclass\")\n",
    "\n",
    "plt.subplot(1, 3, 3)\n",
    "sns.countplot(x=\"Embarked\", data=df)\n",
    "plt.title(\"Count of Passengers by Embarked Port\")\n",
    "plt.tight_layout()\n",
    "plt.show()"
   ]
  },
  {
   "cell_type": "markdown",
   "id": "25d5d6b1",
   "metadata": {},
   "source": [
    "## 4. Outlier Detection and Analysis"
   ]
  },
  {
   "cell_type": "code",
   "execution_count": null,
   "id": "6f7ce9c1",
   "metadata": {},
   "outputs": [],
   "source": [
    "for col in [\"Age\", \"Fare\"]:\n",
    "    Q1 = df[col].quantile(0.25)\n",
    "    Q3 = df[col].quantile(0.75)\n",
    "    IQR = Q3 - Q1\n",
    "    lower_bound = Q1 - 1.5 * IQR\n",
    "    upper_bound = Q3 + 1.5 * IQR\n",
    "    outliers = df[(df[col] < lower_bound) | (df[col] > upper_bound)]\n",
    "    print(f\"\\nOutliers in {col}:\")\n",
    "    print(outliers[[\"PassengerId\", col]].to_markdown(index=False))"
   ]
  },
  {
   "cell_type": "markdown",
   "id": "7c88a087",
   "metadata": {},
   "source": [
    "## 5. Correlation and Relationship Analysis"
   ]
  },
  {
   "cell_type": "markdown",
   "id": "c5ec90b6",
   "metadata": {},
   "source": [
    "### Correlation Matrix"
   ]
  },
  {
   "cell_type": "code",
   "execution_count": null,
   "id": "428541e9",
   "metadata": {},
   "outputs": [],
   "source": [
    "plt.figure(figsize=(10, 8))\n",
    "sns.heatmap(df.select_dtypes(include=[\"int64\", \"float64\"]).corr(), annot=True, cmap=\"coolwarm\")\n",
    "plt.title(\"Correlation Matrix\")\n",
    "plt.show()"
   ]
  },
  {
   "cell_type": "markdown",
   "id": "1a96982f",
   "metadata": {},
   "source": [
    "### Survival Rate by Categorical Features"
   ]
  },
  {
   "cell_type": "code",
   "execution_count": null,
   "id": "e00bfab9",
   "metadata": {},
   "outputs": [],
   "source": [
    "plt.figure(figsize=(18, 5))\n",
    "plt.subplot(1, 3, 1)\n",
    "sns.barplot(x=\"Sex\", y=\"Survived\", data=df)\n",
    "plt.title(\"Survival Rate by Sex\")\n",
    "\n",
    "plt.subplot(1, 3, 2)\n",
    "sns.barplot(x=\"Pclass\", y=\"Survived\", data=df)\n",
    "plt.title(\"Survival Rate by Pclass\")\n",
    "\n",
    "plt.subplot(1, 3, 3)\n",
    "sns.barplot(x=\"Embarked\", y=\"Survived\", data=df)\n",
    "plt.title(\"Survival Rate by Embarked Port\")\n",
    "plt.tight_layout()\n",
    "plt.show()"
   ]
  },
  {
   "cell_type": "markdown",
   "id": "adcfb0c5",
   "metadata": {},
   "source": [
    "## 6. Advanced Analysis and Insights"
   ]
  },
  {
   "cell_type": "markdown",
   "id": "b2bd9ee3",
   "metadata": {},
   "source": [
    "### Age Distribution by Sex and Survival"
   ]
  },
  {
   "cell_type": "code",
   "execution_count": null,
   "id": "beb7aa9d",
   "metadata": {},
   "outputs": [],
   "source": [
    "plt.figure(figsize=(10, 6))\n",
    "sns.violinplot(x=\"Sex\", y=\"Age\", hue=\"Survived\", data=df, split=True)\n",
    "plt.title(\"Age Distribution by Sex and Survival\")\n",
    "plt.show()"
   ]
  },
  {
   "cell_type": "markdown",
   "id": "33f98c9b",
   "metadata": {},
   "source": [
    "### Age Distribution by Pclass and Survival"
   ]
  },
  {
   "cell_type": "code",
   "execution_count": null,
   "id": "f22c3bea",
   "metadata": {},
   "outputs": [],
   "source": [
    "plt.figure(figsize=(10, 6))\n",
    "sns.violinplot(x=\"Pclass\", y=\"Age\", hue=\"Survived\", data=df, split=True)\n",
    "plt.title(\"Age Distribution by Pclass and Survival\")\n",
    "plt.show()"
   ]
  }
 ],
 "metadata": {},
 "nbformat": 4,
 "nbformat_minor": 5
}
